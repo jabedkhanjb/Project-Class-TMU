{
 "cells": [
  {
   "cell_type": "markdown",
   "id": "a7c1e521",
   "metadata": {},
   "source": [
    "# Assignment 1 Python Functions, Classes/Objects\n"
   ]
  },
  {
   "cell_type": "markdown",
   "id": "0ffc8ec0",
   "metadata": {},
   "source": [
    "### Mahfuz Islam Khan Jabed\n",
    "#### B.Sc in CSE\n",
    "#### The Millennium University\n",
    "##### Github.com/jabedkhanjb"
   ]
  },
  {
   "cell_type": "markdown",
   "id": "09e21de9",
   "metadata": {},
   "source": [
    "# Functions"
   ]
  },
  {
   "cell_type": "markdown",
   "id": "9c83811b",
   "metadata": {},
   "source": [
    "<b>Definition of Function:</b> a function is a block of code which only executes when the function name is called. we can pass data which is known as parameters, into a function."
   ]
  },
  {
   "cell_type": "markdown",
   "id": "3cd1d0f8",
   "metadata": {},
   "source": [
    "# Creating a Function"
   ]
  },
  {
   "cell_type": "markdown",
   "id": "dae43ed0",
   "metadata": {},
   "source": [
    "In Python Programing language, it has a reserved keyword name <i><b>def</b></i> which represents function"
   ]
  },
  {
   "cell_type": "code",
   "execution_count": 3,
   "id": "833ac6af",
   "metadata": {},
   "outputs": [],
   "source": [
    "# so here i'm creating a function\n",
    "\n",
    "def project_c1():\n",
    "    print(\"This is my first project class task\")\n"
   ]
  },
  {
   "cell_type": "markdown",
   "id": "32d368f4",
   "metadata": {},
   "source": [
    "above this code we created a function called \"project_c1()\" and passed a print prompt which gonna print a line only if we call the function later on it."
   ]
  },
  {
   "cell_type": "markdown",
   "id": "31a6f7d1",
   "metadata": {},
   "source": [
    "# calling the function"
   ]
  },
  {
   "cell_type": "markdown",
   "id": "ecafc529",
   "metadata": {},
   "source": [
    "now we are required to call the function to get the result of this function."
   ]
  },
  {
   "cell_type": "code",
   "execution_count": 4,
   "id": "e2dd3afc",
   "metadata": {},
   "outputs": [
    {
     "name": "stdout",
     "output_type": "stream",
     "text": [
      "This is my first project class task\n"
     ]
    }
   ],
   "source": [
    "project_c1()"
   ]
  },
  {
   "cell_type": "code",
   "execution_count": 5,
   "id": "fcd07a4b",
   "metadata": {},
   "outputs": [
    {
     "name": "stdout",
     "output_type": "stream",
     "text": [
      "My task is to present function, classes and objects working principle\n"
     ]
    }
   ],
   "source": [
    "def project_c1():\n",
    "    print(\"My task is to present function, classes and objects working principle\")\n",
    "\n",
    "project_c1()"
   ]
  },
  {
   "cell_type": "markdown",
   "id": "f4e98fe7",
   "metadata": {},
   "source": [
    "# Arguments in function"
   ]
  },
  {
   "cell_type": "markdown",
   "id": "bd789b3c",
   "metadata": {},
   "source": [
    "Information can be passed into functions as arguments. \n",
    "Arguments need to pass inside the parentheses of the function. we can pass as many arguments as we want. just need to specified them with a comma."
   ]
  },
  {
   "cell_type": "code",
   "execution_count": 6,
   "id": "b36638c6",
   "metadata": {},
   "outputs": [
    {
     "name": "stdout",
     "output_type": "stream",
     "text": [
      "First Class presentation topics are Function, Classes and Objects\n"
     ]
    }
   ],
   "source": [
    "def project_c1(task):\n",
    "    print(f\"First Class presentation topics are {task}\")\n",
    "    \n",
    "project_c1(\"Function, Classes and Objects\")"
   ]
  },
  {
   "cell_type": "markdown",
   "id": "2fac66e3",
   "metadata": {},
   "source": [
    "So now we are gonna create a function with an argument (firstname). so that when the function is called, we pass along a first name, which is used inside the function to print the full name and last name will be added in the print prompt."
   ]
  },
  {
   "cell_type": "code",
   "execution_count": 7,
   "id": "20035ef6",
   "metadata": {},
   "outputs": [
    {
     "name": "stdout",
     "output_type": "stream",
     "text": [
      "Jabed Khan\n",
      "Mahfuz Khan\n"
     ]
    }
   ],
   "source": [
    "def name_info(fname):\n",
    "    print(f\"{fname} Khan\")\n",
    "\n",
    "name_info(\"Jabed\")\n",
    "# so we have a function, and we can print several name by called function name \n",
    "name_info(\"Mahfuz\")"
   ]
  },
  {
   "cell_type": "markdown",
   "id": "4498f67f",
   "metadata": {},
   "source": [
    "# Parameters and Arguments"
   ]
  },
  {
   "cell_type": "markdown",
   "id": "572d0bd4",
   "metadata": {},
   "source": [
    "The terms parameter and argument can be used for the same thing: information that are passed into a function."
   ]
  },
  {
   "cell_type": "markdown",
   "id": "c38d2ef0",
   "metadata": {},
   "source": [
    "# Number of Arguments\n",
    "\n",
    "By default, a function must be called with the correct number of arguments. Meaning that if your function expects 2 arguments, you have to call the function with 2 arguments, not more, and not less. "
   ]
  },
  {
   "cell_type": "code",
   "execution_count": 11,
   "id": "739be924",
   "metadata": {},
   "outputs": [
    {
     "name": "stdout",
     "output_type": "stream",
     "text": [
      "Mahfuz Islam Khan Jabed\n"
     ]
    }
   ],
   "source": [
    "def users_name(fname, mname, lname):\n",
    "    print(fname + \" \" + mname + \" \" + lname)\n",
    "    \n",
    "users_name(\"Mahfuz Islam\", \"Khan\", \"Jabed\")"
   ]
  },
  {
   "cell_type": "markdown",
   "id": "09994af9",
   "metadata": {},
   "source": [
    "What if we pass less arguments or more than its expected arguments."
   ]
  },
  {
   "cell_type": "code",
   "execution_count": 13,
   "id": "93243569",
   "metadata": {},
   "outputs": [
    {
     "ename": "TypeError",
     "evalue": "users_name() missing 2 required positional arguments: 'mname' and 'lname'",
     "output_type": "error",
     "traceback": [
      "\u001b[1;31m---------------------------------------------------------------------------\u001b[0m",
      "\u001b[1;31mTypeError\u001b[0m                                 Traceback (most recent call last)",
      "Cell \u001b[1;32mIn[13], line 1\u001b[0m\n\u001b[1;32m----> 1\u001b[0m users_name(\u001b[39m\"\u001b[39;49m\u001b[39mMahfuz Islam\u001b[39;49m\u001b[39m\"\u001b[39;49m)\n",
      "\u001b[1;31mTypeError\u001b[0m: users_name() missing 2 required positional arguments: 'mname' and 'lname'"
     ]
    }
   ],
   "source": [
    "users_name(\"Mahfuz Islam\")"
   ]
  },
  {
   "cell_type": "markdown",
   "id": "993aa12d",
   "metadata": {},
   "source": [
    "so the TypeError above warns that 2 positional arguments are missing."
   ]
  },
  {
   "cell_type": "markdown",
   "id": "62d1d17b",
   "metadata": {},
   "source": [
    "# Arbitrary Arguments, *args\n",
    "\n",
    "If we do not know how many arguments that will be passed into our function, add a * before the parameter name in the function definition.\n",
    "\n",
    "This way the function will receive a tuple of arguments, and can access the items accordingly:"
   ]
  },
  {
   "cell_type": "markdown",
   "id": "504388ee",
   "metadata": {},
   "source": [
    "<i><b>If the number of arguments is unknown, add a * before the parameter name:</b></i>"
   ]
  },
  {
   "cell_type": "code",
   "execution_count": 42,
   "id": "9a640c3c",
   "metadata": {},
   "outputs": [
    {
     "name": "stdout",
     "output_type": "stream",
     "text": [
      "I have learnt ('HTML', 'CSS', 'JAVASCRIPT')\n"
     ]
    },
    {
     "ename": "TypeError",
     "evalue": "type() takes 1 or 3 arguments",
     "output_type": "error",
     "traceback": [
      "\u001b[1;31m---------------------------------------------------------------------------\u001b[0m",
      "\u001b[1;31mTypeError\u001b[0m                                 Traceback (most recent call last)",
      "\u001b[1;32m~\\AppData\\Local\\Temp\\ipykernel_9944\\413518361.py\u001b[0m in \u001b[0;36m<module>\u001b[1;34m\u001b[0m\n\u001b[0;32m      3\u001b[0m \u001b[1;33m\u001b[0m\u001b[0m\n\u001b[0;32m      4\u001b[0m \u001b[0mnew_function\u001b[0m\u001b[1;33m(\u001b[0m\u001b[1;34m\"HTML\"\u001b[0m\u001b[1;33m,\u001b[0m \u001b[1;34m\"CSS\"\u001b[0m\u001b[1;33m,\u001b[0m \u001b[1;34m\"JAVASCRIPT\"\u001b[0m\u001b[1;33m)\u001b[0m\u001b[1;33m\u001b[0m\u001b[1;33m\u001b[0m\u001b[0m\n\u001b[1;32m----> 5\u001b[1;33m \u001b[0mnew_function\u001b[0m\u001b[1;33m(\u001b[0m\u001b[0mprint\u001b[0m\u001b[1;33m(\u001b[0m\u001b[0mtype\u001b[0m\u001b[1;33m(\u001b[0m\u001b[1;33m)\u001b[0m\u001b[1;33m)\u001b[0m\u001b[1;33m)\u001b[0m\u001b[1;33m\u001b[0m\u001b[1;33m\u001b[0m\u001b[0m\n\u001b[0m",
      "\u001b[1;31mTypeError\u001b[0m: type() takes 1 or 3 arguments"
     ]
    }
   ],
   "source": [
    "def new_function(*p_language):\n",
    "    print(f\"I have learnt {p_language[]}\")\n",
    "\n",
    "new_function(\"HTML\", \"CSS\", \"JAVASCRIPT\", \"C\", \"C++\", )\n"
   ]
  },
  {
   "cell_type": "code",
   "execution_count": null,
   "id": "cd5c0acc",
   "metadata": {},
   "outputs": [],
   "source": []
  }
 ],
 "metadata": {
  "kernelspec": {
   "display_name": "Python 3 (ipykernel)",
   "language": "python",
   "name": "python3"
  },
  "language_info": {
   "codemirror_mode": {
    "name": "ipython",
    "version": 3
   },
   "file_extension": ".py",
   "mimetype": "text/x-python",
   "name": "python",
   "nbconvert_exporter": "python",
   "pygments_lexer": "ipython3",
   "version": "3.9.13"
  },
  "vscode": {
   "interpreter": {
    "hash": "d1f08592043555f5f6b5a69ae21320c6096ca2470dcf4c033163e9b1094dbffd"
   }
  }
 },
 "nbformat": 4,
 "nbformat_minor": 5
}
