{
 "cells": [
  {
   "cell_type": "markdown",
   "id": "a7c1e521",
   "metadata": {},
   "source": [
    "# Assignment 1 Python Functions, Classes/Objects\n"
   ]
  },
  {
   "cell_type": "markdown",
   "id": "0ffc8ec0",
   "metadata": {},
   "source": [
    "### Mahfuz Islam Khan Jabed\n",
    "#### B.Sc in CSE\n",
    "#### The Millennium University\n",
    "##### Github.com/jabedkhanjb"
   ]
  },
  {
   "cell_type": "markdown",
   "id": "09e21de9",
   "metadata": {},
   "source": [
    "# Functions"
   ]
  },
  {
   "cell_type": "markdown",
   "id": "2b314266",
   "metadata": {},
   "source": [
    "<b>Definition of Function:</b> a function is a block of code which only executes when the function name is called. we can pass data which is known as parameters, into a function."
   ]
  },
  {
   "cell_type": "markdown",
   "id": "023a9241",
   "metadata": {},
   "source": [
    "# Creating a Function"
   ]
  },
  {
   "cell_type": "markdown",
   "id": "c8a4fee1",
   "metadata": {},
   "source": [
    "In Python Programing language, it has a reserved keyword name <i><b>def</b></i> which represents function"
   ]
  },
  {
   "cell_type": "code",
   "execution_count": 2,
   "id": "56947d13",
   "metadata": {},
   "outputs": [],
   "source": [
    "# so here i'm creating a function\n",
    "\n",
    "def project_c1():\n",
    "    print(\"This is my first project class task\")\n"
   ]
  },
  {
   "cell_type": "markdown",
   "id": "a7b74125",
   "metadata": {},
   "source": [
    "above this code we created a function called \"project_c1()\" and passed a print prompt which gonna print a line only if we call the function later on it."
   ]
  },
  {
   "cell_type": "markdown",
   "id": "eb8e7826",
   "metadata": {},
   "source": [
    "# calling the function"
   ]
  },
  {
   "cell_type": "markdown",
   "id": "d42bae42",
   "metadata": {},
   "source": [
    "now we are required to call the function to get the result of this function."
   ]
  },
  {
   "cell_type": "code",
   "execution_count": 3,
   "id": "dcb9f219",
   "metadata": {},
   "outputs": [
    {
     "name": "stdout",
     "output_type": "stream",
     "text": [
      "This is my first project class task\n"
     ]
    }
   ],
   "source": [
    "project_c1()"
   ]
  },
  {
   "cell_type": "code",
   "execution_count": 4,
   "id": "20f6a276",
   "metadata": {},
   "outputs": [
    {
     "name": "stdout",
     "output_type": "stream",
     "text": [
      "My task is to present function, classes and objects working principle\n"
     ]
    }
   ],
   "source": [
    "def project_c1():\n",
    "    print(\"My task is to present function, classes and objects working principle\")\n",
    "\n",
    "project_c1()"
   ]
  },
  {
   "cell_type": "markdown",
   "id": "a98a85e4",
   "metadata": {},
   "source": [
    "# Arguments in function"
   ]
  },
  {
   "cell_type": "markdown",
   "id": "80d943bd",
   "metadata": {},
   "source": [
    "Information can be passed into functions as arguments. \n",
    "Arguments need to pass inside the parentheses of the function. we can pass as many arguments as we want. just need to specified them with a comma."
   ]
  },
  {
   "cell_type": "code",
   "execution_count": 6,
   "id": "91dff21a",
   "metadata": {},
   "outputs": [
    {
     "name": "stdout",
     "output_type": "stream",
     "text": [
      "First Class presentation topics are Function, Classes and Objects\n"
     ]
    }
   ],
   "source": [
    "def project_c1(task):\n",
    "    print(f\"First Class presentation topics are {task}\")\n",
    "    \n",
    "project_c1(\"Function, Classes and Objects\")"
   ]
  },
  {
   "cell_type": "code",
   "execution_count": null,
   "id": "1e9d144a",
   "metadata": {},
   "outputs": [],
   "source": []
  }
 ],
 "metadata": {
  "kernelspec": {
   "display_name": "Python 3 (ipykernel)",
   "language": "python",
   "name": "python3"
  },
  "language_info": {
   "codemirror_mode": {
    "name": "ipython",
    "version": 3
   },
   "file_extension": ".py",
   "mimetype": "text/x-python",
   "name": "python",
   "nbconvert_exporter": "python",
   "pygments_lexer": "ipython3",
   "version": "3.9.13"
  }
 },
 "nbformat": 4,
 "nbformat_minor": 5
}
