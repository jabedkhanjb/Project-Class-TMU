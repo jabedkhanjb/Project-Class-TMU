{
 "cells": [
  {
   "cell_type": "markdown",
   "id": "a7c1e521",
   "metadata": {},
   "source": [
    "# Assignment 1 Python Functions, Classes/Objects\n"
   ]
  },
  {
   "cell_type": "markdown",
   "id": "0ffc8ec0",
   "metadata": {},
   "source": [
    "### Mahfuz Islam Khan Jabed\n",
    "#### B.Sc in CSE\n",
    "#### The Millennium University\n",
    "##### Github.com/jabedkhanjb"
   ]
  },
  {
   "cell_type": "markdown",
   "id": "09e21de9",
   "metadata": {},
   "source": [
    "# Functions"
   ]
  },
  {
   "cell_type": "markdown",
   "id": "04bd9b17",
   "metadata": {},
   "source": [
    "<b>Definition of Function:</b> a function is a block of code which only executes when the function name is called. we can pass data which is known as parameters, into a function."
   ]
  },
  {
   "cell_type": "markdown",
   "id": "a8beedf5",
   "metadata": {},
   "source": [
    "# Creating a Function"
   ]
  },
  {
   "cell_type": "markdown",
   "id": "4654c2be",
   "metadata": {},
   "source": [
    "In Python Programing language, it has a reserved keyword name <i><b>def</b></i> which represents function"
   ]
  },
  {
   "cell_type": "code",
   "execution_count": 2,
   "id": "5d8494ed",
   "metadata": {},
   "outputs": [],
   "source": [
    "# so here i'm creating a function\n",
    "\n",
    "def project_c1():\n",
    "    print(\"This is my first project class task\")\n"
   ]
  },
  {
   "cell_type": "markdown",
   "id": "6852b018",
   "metadata": {},
   "source": [
    "above this code we created a function called \"project_c1()\" and passed a print prompt which gonna print a line only if we call the function later on it."
   ]
  },
  {
   "cell_type": "markdown",
   "id": "840e2092",
   "metadata": {},
   "source": [
    "# calling the function"
   ]
  },
  {
   "cell_type": "markdown",
   "id": "0c102cd8",
   "metadata": {},
   "source": [
    "now we are required to call the function to get the result of this function."
   ]
  },
  {
   "cell_type": "code",
   "execution_count": 3,
   "id": "c72a5d40",
   "metadata": {},
   "outputs": [
    {
     "name": "stdout",
     "output_type": "stream",
     "text": [
      "This is my first project class task\n"
     ]
    }
   ],
   "source": [
    "project_c1()"
   ]
  },
  {
   "cell_type": "code",
   "execution_count": 4,
   "id": "2a08183c",
   "metadata": {},
   "outputs": [
    {
     "name": "stdout",
     "output_type": "stream",
     "text": [
      "My task is to present function, classes and objects working principle\n"
     ]
    }
   ],
   "source": [
    "def project_c1():\n",
    "    print(\"My task is to present function, classes and objects working principle\")\n",
    "\n",
    "project_c1()"
   ]
  },
  {
   "cell_type": "markdown",
   "id": "fa96753c",
   "metadata": {},
   "source": [
    "# Arguments in function"
   ]
  },
  {
   "cell_type": "markdown",
   "id": "32bd3833",
   "metadata": {},
   "source": [
    "Information can be passed into functions as arguments. \n",
    "Arguments need to pass inside the parentheses of the function. we can pass as many arguments as we want. just need to specified them with a comma."
   ]
  },
  {
   "cell_type": "code",
   "execution_count": 6,
   "id": "be116948",
   "metadata": {},
   "outputs": [
    {
     "name": "stdout",
     "output_type": "stream",
     "text": [
      "First Class presentation topics are Function, Classes and Objects\n"
     ]
    }
   ],
   "source": [
    "def project_c1(task):\n",
    "    print(f\"First Class presentation topics are {task}\")\n",
    "    \n",
    "project_c1(\"Function, Classes and Objects\")"
   ]
  },
  {
   "cell_type": "markdown",
   "id": "70d2d18f",
   "metadata": {},
   "source": [
    "So now we are gonna create a function with an argument (firstname). so that when the function is called, we pass along a first name, which is used inside the function to print the full name and last name will be added in the print prompt."
   ]
  },
  {
   "cell_type": "code",
   "execution_count": 16,
   "id": "2e189038",
   "metadata": {},
   "outputs": [
    {
     "name": "stdout",
     "output_type": "stream",
     "text": [
      "Jabed Khan\n",
      "Mahfuz Khan\n"
     ]
    }
   ],
   "source": [
    "def name_info(fname):\n",
    "    print(f\"{fname} Khan\")\n",
    "\n",
    "name_info(\"Jabed\")\n",
    "# so we have a function, and we can print several name by called function name \n",
    "name_info(\"Mahfuz\")"
   ]
  },
  {
   "cell_type": "code",
   "execution_count": null,
   "id": "3cb09211",
   "metadata": {},
   "outputs": [],
   "source": []
  },
  {
   "cell_type": "code",
   "execution_count": null,
   "id": "e6d5949a",
   "metadata": {},
   "outputs": [],
   "source": []
  }
 ],
 "metadata": {
  "kernelspec": {
   "display_name": "Python 3 (ipykernel)",
   "language": "python",
   "name": "python3"
  },
  "language_info": {
   "codemirror_mode": {
    "name": "ipython",
    "version": 3
   },
   "file_extension": ".py",
   "mimetype": "text/x-python",
   "name": "python",
   "nbconvert_exporter": "python",
   "pygments_lexer": "ipython3",
   "version": "3.9.13"
  }
 },
 "nbformat": 4,
 "nbformat_minor": 5
}
