{
 "cells": [
  {
   "cell_type": "markdown",
   "id": "a7c1e521",
   "metadata": {},
   "source": [
    "# Assignment 1 Python Functions, Classes/Objects\n"
   ]
  },
  {
   "cell_type": "markdown",
   "id": "0ffc8ec0",
   "metadata": {},
   "source": [
    "### Mahfuz Islam Khan Jabed\n",
    "#### B.Sc in CSE\n",
    "#### The Millennium University\n",
    "##### Github.com/jabedkhanjb"
   ]
  },
  {
   "cell_type": "markdown",
   "id": "09e21de9",
   "metadata": {},
   "source": [
    "# Functions"
   ]
  },
  {
   "cell_type": "markdown",
   "id": "9c83811b",
   "metadata": {},
   "source": [
    "<b>Definition of Function:</b> a function is a block of code which only executes when the function name is called. we can pass data which is known as parameters, into a function."
   ]
  },
  {
   "cell_type": "markdown",
   "id": "3cd1d0f8",
   "metadata": {},
   "source": [
    "# Creating a Function"
   ]
  },
  {
   "cell_type": "markdown",
   "id": "dae43ed0",
   "metadata": {},
   "source": [
    "In Python Programing language, it has a reserved keyword name <i><b>def</b></i> which represents function"
   ]
  },
  {
   "cell_type": "code",
   "execution_count": 3,
   "id": "833ac6af",
   "metadata": {},
   "outputs": [],
   "source": [
    "# so here i'm creating a function\n",
    "\n",
    "def project_c1():\n",
    "    print(\"This is my first project class task\")\n"
   ]
  },
  {
   "cell_type": "markdown",
   "id": "32d368f4",
   "metadata": {},
   "source": [
    "above this code we created a function called \"project_c1()\" and passed a print prompt which gonna print a line only if we call the function later on it."
   ]
  },
  {
   "cell_type": "markdown",
   "id": "31a6f7d1",
   "metadata": {},
   "source": [
    "# calling the function"
   ]
  },
  {
   "cell_type": "markdown",
   "id": "ecafc529",
   "metadata": {},
   "source": [
    "now we are required to call the function to get the result of this function."
   ]
  },
  {
   "cell_type": "code",
   "execution_count": 4,
   "id": "e2dd3afc",
   "metadata": {},
   "outputs": [
    {
     "name": "stdout",
     "output_type": "stream",
     "text": [
      "This is my first project class task\n"
     ]
    }
   ],
   "source": [
    "project_c1()"
   ]
  },
  {
   "cell_type": "code",
   "execution_count": 5,
   "id": "fcd07a4b",
   "metadata": {},
   "outputs": [
    {
     "name": "stdout",
     "output_type": "stream",
     "text": [
      "My task is to present function, classes and objects working principle\n"
     ]
    }
   ],
   "source": [
    "def project_c1():\n",
    "    print(\"My task is to present function, classes and objects working principle\")\n",
    "\n",
    "project_c1()"
   ]
  },
  {
   "cell_type": "markdown",
   "id": "f4e98fe7",
   "metadata": {},
   "source": [
    "# Arguments in function"
   ]
  },
  {
   "cell_type": "markdown",
   "id": "bd789b3c",
   "metadata": {},
   "source": [
    "Information can be passed into functions as arguments. \n",
    "Arguments need to pass inside the parentheses of the function. we can pass as many arguments as we want. just need to specified them with a comma."
   ]
  },
  {
   "cell_type": "code",
   "execution_count": 6,
   "id": "b36638c6",
   "metadata": {},
   "outputs": [
    {
     "name": "stdout",
     "output_type": "stream",
     "text": [
      "First Class presentation topics are Function, Classes and Objects\n"
     ]
    }
   ],
   "source": [
    "def project_c1(task):\n",
    "    print(f\"First Class presentation topics are {task}\")\n",
    "    \n",
    "project_c1(\"Function, Classes and Objects\")"
   ]
  },
  {
   "cell_type": "markdown",
   "id": "2fac66e3",
   "metadata": {},
   "source": [
    "So now we are gonna create a function with an argument (firstname). so that when the function is called, we pass along a first name, which is used inside the function to print the full name and last name will be added in the print prompt."
   ]
  },
  {
   "cell_type": "code",
   "execution_count": 7,
   "id": "20035ef6",
   "metadata": {},
   "outputs": [
    {
     "name": "stdout",
     "output_type": "stream",
     "text": [
      "Jabed Khan\n",
      "Mahfuz Khan\n"
     ]
    }
   ],
   "source": [
    "def name_info(fname):\n",
    "    print(f\"{fname} Khan\")\n",
    "\n",
    "name_info(\"Jabed\")\n",
    "# so we have a function, and we can print several name by called function name \n",
    "name_info(\"Mahfuz\")"
   ]
  },
  {
   "cell_type": "markdown",
   "id": "4498f67f",
   "metadata": {},
   "source": [
    "# Parameters and Arguments"
   ]
  },
  {
   "cell_type": "markdown",
   "id": "572d0bd4",
   "metadata": {},
   "source": [
    "The terms parameter and argument can be used for the same thing: information that are passed into a function."
   ]
  },
  {
   "cell_type": "markdown",
   "id": "c38d2ef0",
   "metadata": {},
   "source": [
    "# Number of Arguments\n",
    "\n",
    "By default, a function must be called with the correct number of arguments. Meaning that if your function expects 2 arguments, you have to call the function with 2 arguments, not more, and not less. "
   ]
  },
  {
   "cell_type": "code",
   "execution_count": 11,
   "id": "739be924",
   "metadata": {},
   "outputs": [
    {
     "name": "stdout",
     "output_type": "stream",
     "text": [
      "Mahfuz Islam Khan Jabed\n"
     ]
    }
   ],
   "source": [
    "def users_name(fname, mname, lname):\n",
    "    print(fname + \" \" + mname + \" \" + lname)\n",
    "    \n",
    "users_name(\"Mahfuz Islam\", \"Khan\", \"Jabed\")"
   ]
  },
  {
   "cell_type": "markdown",
   "id": "09994af9",
   "metadata": {},
   "source": [
    "What if we pass less arguments or more than its expected arguments."
   ]
  },
  {
   "cell_type": "code",
   "execution_count": 13,
   "id": "93243569",
   "metadata": {},
   "outputs": [
    {
     "ename": "TypeError",
     "evalue": "users_name() missing 2 required positional arguments: 'mname' and 'lname'",
     "output_type": "error",
     "traceback": [
      "\u001b[1;31m---------------------------------------------------------------------------\u001b[0m",
      "\u001b[1;31mTypeError\u001b[0m                                 Traceback (most recent call last)",
      "Cell \u001b[1;32mIn[13], line 1\u001b[0m\n\u001b[1;32m----> 1\u001b[0m users_name(\u001b[39m\"\u001b[39;49m\u001b[39mMahfuz Islam\u001b[39;49m\u001b[39m\"\u001b[39;49m)\n",
      "\u001b[1;31mTypeError\u001b[0m: users_name() missing 2 required positional arguments: 'mname' and 'lname'"
     ]
    }
   ],
   "source": [
    "users_name(\"Mahfuz Islam\")"
   ]
  },
  {
   "cell_type": "markdown",
   "id": "993aa12d",
   "metadata": {},
   "source": [
    "so the TypeError above warns that 2 positional arguments are missing."
   ]
  },
  {
   "cell_type": "markdown",
   "id": "8d33c4eb",
   "metadata": {},
   "source": [
    "# Arbitrary Arguments, *args\n",
    "\n",
    "If we do not know how many arguments that will be passed into our function, add a * before the parameter name in the function definition.\n",
    "\n",
    "This way the function will receive a tuple of arguments, and can access the items accordingly:"
   ]
  },
  {
   "cell_type": "markdown",
   "id": "5a1b77cb",
   "metadata": {},
   "source": [
    "<i><b>If the number of arguments is unknown, add a * before the parameter name:</b></i>"
   ]
  },
  {
   "cell_type": "code",
   "execution_count": 43,
   "id": "76b74f0e",
   "metadata": {},
   "outputs": [
    {
     "name": "stdout",
     "output_type": "stream",
     "text": [
      "I have learnt PYTHON\n"
     ]
    }
   ],
   "source": [
    "def new_function(*p_language):\n",
    "    print(f\"I have learnt {p_language[5]}\")\n",
    "\n",
    "new_function(\"HTML\", \"CSS\", \"JAVASCRIPT\", \"C\", \"C++\", \"PYTHON\")\n"
   ]
  },
  {
   "cell_type": "markdown",
   "id": "afd5f149",
   "metadata": {},
   "source": [
    "# Keyword Arguments\n",
    "\n",
    "You can also send arguments with the <i>key = value</i> syntax.\n",
    "\n",
    "This way the order of the arguments does not matter."
   ]
  },
  {
   "cell_type": "code",
   "execution_count": 1,
   "id": "a184e0c5",
   "metadata": {},
   "outputs": [
    {
     "name": "stdout",
     "output_type": "stream",
     "text": [
      "The youngest child is Hammy\n"
     ]
    }
   ],
   "source": [
    "def new_function(child1, child2, child3):\n",
    "    print(\"The youngest child is \" + child3)\n",
    "    \n",
    "new_function(child1 = \"Emma\", child2 = \"Jessi\", child3= \"Hammy\")"
   ]
  },
  {
   "cell_type": "markdown",
   "id": "32f50561",
   "metadata": {},
   "source": [
    "# Arbitrary Keyword Arguments, **kwargs\n",
    "\n",
    "If you do not know how many keyword arguments that will be passed into your function, add two asterisk: <i><b>**</b></i> before the parameter name in the function definition.\n",
    "\n",
    "This way the function will receive a dictionary of arguments, and can access the items accordingly:"
   ]
  },
  {
   "cell_type": "markdown",
   "id": "f037e4df",
   "metadata": {},
   "source": [
    "<i><b>If the number of keyword arguments is unknown, add a double ** before the parameter name:</b></i>"
   ]
  },
  {
   "cell_type": "code",
   "execution_count": 5,
   "id": "dcb5990a",
   "metadata": {},
   "outputs": [
    {
     "name": "stdout",
     "output_type": "stream",
     "text": [
      "His last name is Jabed\n"
     ]
    }
   ],
   "source": [
    "def my_function(**kid):\n",
    "    print(\"His last name is \" + kid[\"lname\"])\n",
    "    \n",
    "my_function(fname = \"Mahfuz Islam Khan\", lname = \"Jabed\")"
   ]
  },
  {
   "cell_type": "markdown",
   "id": "08dc8014",
   "metadata": {},
   "source": [
    "# Default Parameter Value\n",
    "\n",
    "The following example shows how to use a default parameter value.\n",
    "\n",
    "If we call the function without argument, it uses the default value:"
   ]
  },
  {
   "cell_type": "code",
   "execution_count": 9,
   "id": "2bfcdc3b",
   "metadata": {},
   "outputs": [
    {
     "name": "stdout",
     "output_type": "stream",
     "text": [
      "I'm from The United State of America\n",
      "I'm from Bangladesh\n"
     ]
    }
   ],
   "source": [
    "def my_function(country = \"Bangladesh\"):\n",
    "    print(f\"I'm from {country}\")\n",
    "\n",
    "my_function(\"The United State of America\")\n",
    "my_function()"
   ]
  },
  {
   "cell_type": "markdown",
   "id": "1a8a8f1c",
   "metadata": {},
   "source": [
    "# Passing a List as an Argument\n",
    "\n",
    "You can send any data types of argument to a function (string, number, list, dictionary etc.), and it will be treated as the same data type inside the function.\n",
    "\n",
    "E.g. if you send a List as an argument, it will still be a List when it reaches the function:"
   ]
  },
  {
   "cell_type": "code",
   "execution_count": 14,
   "id": "680e2cd8",
   "metadata": {
    "scrolled": true
   },
   "outputs": [
    {
     "name": "stdout",
     "output_type": "stream",
     "text": [
      "Apple\n",
      "Banana\n",
      "Cherry\n",
      "Mango\n",
      "Strawberry\n"
     ]
    }
   ],
   "source": [
    "def my_function(food):\n",
    "    for item in food:\n",
    "        print(item)\n",
    "        \n",
    "fruits = [\"Apple\", \"Banana\", \"Cherry\", \"Mango\", \"Strawberry\"]\n",
    "my_function(fruits)"
   ]
  },
  {
   "cell_type": "markdown",
   "id": "3b2971cc",
   "metadata": {},
   "source": [
    "# Return Values\n",
    "\n",
    "To let a function return a value, use the <b>return</b> statement:"
   ]
  },
  {
   "cell_type": "code",
   "execution_count": 15,
   "id": "f3ba6533",
   "metadata": {},
   "outputs": [
    {
     "name": "stdout",
     "output_type": "stream",
     "text": [
      "25\n"
     ]
    }
   ],
   "source": [
    "def my_function(x):\n",
    "    return 5 * x\n",
    "\n",
    "print(my_function(5))"
   ]
  },
  {
   "cell_type": "markdown",
   "id": "095873f0",
   "metadata": {},
   "source": [
    "# The pass Statement\n",
    "\n",
    "<b>function</b> definitions cannot be empty, but if you for some reason have a <b>function</b> definition with no content, put in the <b>pass</b> statement to avoid getting an error."
   ]
  },
  {
   "cell_type": "code",
   "execution_count": 21,
   "id": "8d5847c7",
   "metadata": {},
   "outputs": [
    {
     "name": "stdout",
     "output_type": "stream",
     "text": [
      "Hello World!\n"
     ]
    }
   ],
   "source": [
    "def myfunction(fname, lname):\n",
    "#     print(f\"My first name is {fname} and last name is {lname}\")\n",
    "    pass\n",
    "    \n",
    "# myfunction(\"Mahfuz Islam Khan\", \"Jabed\")\n",
    "print(\"Hello World!\")"
   ]
  },
  {
   "cell_type": "code",
   "execution_count": 22,
   "id": "4290b23e",
   "metadata": {},
   "outputs": [],
   "source": [
    "def myfunction():\n",
    "    pass"
   ]
  },
  {
   "cell_type": "markdown",
   "id": "1fcfc6bc",
   "metadata": {},
   "source": [
    "# Recursion"
   ]
  },
  {
   "cell_type": "code",
   "execution_count": 3,
   "id": "3fdcf6c8",
   "metadata": {},
   "outputs": [
    {
     "name": "stdout",
     "output_type": "stream",
     "text": [
      "Recursion Example Results\n",
      "1\n",
      "3\n",
      "6\n",
      "10\n",
      "15\n",
      "21\n"
     ]
    },
    {
     "data": {
      "text/plain": [
       "21"
      ]
     },
     "execution_count": 3,
     "metadata": {},
     "output_type": "execute_result"
    }
   ],
   "source": [
    "def recursion(k):\n",
    "    if(k > 0):\n",
    "        result = k + recursion(k - 1)\n",
    "        print(result)\n",
    "    else:\n",
    "        result = 0\n",
    "    return result\n",
    "\n",
    "print(\"Recursion Example Results\")\n",
    "recursion(6)"
   ]
  },
  {
   "cell_type": "code",
   "execution_count": null,
   "id": "a72b0ed3",
   "metadata": {},
   "outputs": [],
   "source": []
  }
 ],
 "metadata": {
  "kernelspec": {
   "display_name": "Python 3 (ipykernel)",
   "language": "python",
   "name": "python3"
  },
  "language_info": {
   "codemirror_mode": {
    "name": "ipython",
    "version": 3
   },
   "file_extension": ".py",
   "mimetype": "text/x-python",
   "name": "python",
   "nbconvert_exporter": "python",
   "pygments_lexer": "ipython3",
   "version": "3.9.13"
  },
  "vscode": {
   "interpreter": {
    "hash": "d1f08592043555f5f6b5a69ae21320c6096ca2470dcf4c033163e9b1094dbffd"
   }
  }
 },
 "nbformat": 4,
 "nbformat_minor": 5
}
