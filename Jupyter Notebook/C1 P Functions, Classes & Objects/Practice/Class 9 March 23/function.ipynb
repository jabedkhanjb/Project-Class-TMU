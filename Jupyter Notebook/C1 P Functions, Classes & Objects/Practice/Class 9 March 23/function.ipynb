{
 "cells": [
  {
   "cell_type": "markdown",
   "id": "ad1b69a7",
   "metadata": {},
   "source": [
    "create function"
   ]
  },
  {
   "cell_type": "code",
   "execution_count": 2,
   "id": "fbcf1f7a",
   "metadata": {},
   "outputs": [
    {
     "name": "stdout",
     "output_type": "stream",
     "text": [
      "This is my first project class\n"
     ]
    }
   ],
   "source": [
    "def project_class():\n",
    "    print(\"This is my first project class\")\n",
    "    \n",
    "    \n",
    "    \n",
    "project_class()\n"
   ]
  },
  {
   "cell_type": "code",
   "execution_count": 6,
   "id": "05f41a98",
   "metadata": {},
   "outputs": [
    {
     "name": "stdout",
     "output_type": "stream",
     "text": [
      "This is my first project class\n",
      "This is my second project class\n"
     ]
    }
   ],
   "source": [
    "def project_class(cls):\n",
    "    print(f\"This is my {cls} project class\")\n",
    "    \n",
    "    \n",
    "    \n",
    "project_class(\"first\")\n",
    "project_class(\"second\")\n"
   ]
  },
  {
   "cell_type": "code",
   "execution_count": 9,
   "id": "b6aa830e",
   "metadata": {},
   "outputs": [
    {
     "name": "stdout",
     "output_type": "stream",
     "text": [
      "firstname: Mahfuz Islam Khan\n",
      "lastname: Jabed\n",
      "My first name is Mahfuz Islam Khan and last name is Jabed\n"
     ]
    }
   ],
   "source": [
    "def person(fname, lname):\n",
    "    print(f\"My first name is {fname} and last name is {lname}\")\n",
    "    \n",
    "    \n",
    "person(fname = input(\"firstname: \").strip(), lname = input(\"lastname: \").strip())"
   ]
  },
  {
   "cell_type": "code",
   "execution_count": null,
   "id": "e9a4bf4e",
   "metadata": {},
   "outputs": [],
   "source": []
  }
 ],
 "metadata": {
  "kernelspec": {
   "display_name": "Python 3 (ipykernel)",
   "language": "python",
   "name": "python3"
  },
  "language_info": {
   "codemirror_mode": {
    "name": "ipython",
    "version": 3
   },
   "file_extension": ".py",
   "mimetype": "text/x-python",
   "name": "python",
   "nbconvert_exporter": "python",
   "pygments_lexer": "ipython3",
   "version": "3.9.13"
  }
 },
 "nbformat": 4,
 "nbformat_minor": 5
}
