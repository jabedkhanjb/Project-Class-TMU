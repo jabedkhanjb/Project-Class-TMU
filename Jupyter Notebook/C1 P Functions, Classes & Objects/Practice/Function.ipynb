{
 "cells": [
  {
   "cell_type": "code",
   "execution_count": 3,
   "id": "7c3df1a9",
   "metadata": {},
   "outputs": [],
   "source": [
    "def project_class():\n",
    "    print(\"This is my first project class task\")"
   ]
  },
  {
   "cell_type": "code",
   "execution_count": 4,
   "id": "bb692b59",
   "metadata": {},
   "outputs": [
    {
     "name": "stdout",
     "output_type": "stream",
     "text": [
      "This is my first project class task\n"
     ]
    }
   ],
   "source": [
    "project_class()"
   ]
  },
  {
   "cell_type": "code",
   "execution_count": 6,
   "id": "ce27ae88",
   "metadata": {},
   "outputs": [
    {
     "name": "stdout",
     "output_type": "stream",
     "text": [
      "My University name is The Millennium University\n"
     ]
    }
   ],
   "source": [
    "def project_class(university):\n",
    "    print(f\"My University name is {university}\")\n",
    "    \n",
    "\n",
    "project_class(\"The Millennium University\")"
   ]
  },
  {
   "cell_type": "code",
   "execution_count": 8,
   "id": "e048de29",
   "metadata": {},
   "outputs": [
    {
     "name": "stdout",
     "output_type": "stream",
     "text": [
      "My University name is The Millennium University\n",
      "B.Sc in CSE\n"
     ]
    }
   ],
   "source": [
    "def project_class(university, degree):\n",
    "    print(f\"My University name is {university}\")\n",
    "    print(f\"{degree}\")\n",
    "    \n",
    "\n",
    "project_class(\"The Millennium University\", \"B.Sc in CSE\")"
   ]
  },
  {
   "cell_type": "code",
   "execution_count": 14,
   "id": "939045c3",
   "metadata": {},
   "outputs": [
    {
     "name": "stdout",
     "output_type": "stream",
     "text": [
      "I have learnt python\n"
     ]
    }
   ],
   "source": [
    "def program(*pl):\n",
    "    print(f\"I have learnt {pl[-1]}\")\n",
    "    \n",
    "    \n",
    "program(\"html\", \"css\", \"javascript\", \"c\", \"c++\", \"python\")"
   ]
  },
  {
   "cell_type": "code",
   "execution_count": 16,
   "id": "ddff330f",
   "metadata": {},
   "outputs": [
    {
     "name": "stdout",
     "output_type": "stream",
     "text": [
      "My University name is The Millennium University\n",
      "B.Sc in CSE\n"
     ]
    }
   ],
   "source": [
    "def project_class(university, degree):\n",
    "    print(f\"My University name is {university}\")\n",
    "    print(f\"{degree}\")\n",
    "    \n",
    "\n",
    "project_class( degree = \"B.Sc in CSE\", university = \"The Millennium University\")"
   ]
  },
  {
   "cell_type": "code",
   "execution_count": 22,
   "id": "317ebaae",
   "metadata": {},
   "outputs": [
    {
     "name": "stdout",
     "output_type": "stream",
     "text": [
      "Which Phone is best in your preference?\n",
      "iPhone 14 Pro\n"
     ]
    }
   ],
   "source": [
    "def my_function(**phone):\n",
    "    print(\"Which Phone is best in your preference?\\n\" + phone[\"apple\"])\n",
    "    \n",
    "    \n",
    "my_function(apple = \"iPhone 14 Pro\", samsung = \"S20 Ultra\")"
   ]
  },
  {
   "cell_type": "code",
   "execution_count": 24,
   "id": "20320499",
   "metadata": {},
   "outputs": [
    {
     "name": "stdout",
     "output_type": "stream",
     "text": [
      "I'm from Bangladesh\n",
      "I'm from The USA\n"
     ]
    }
   ],
   "source": [
    "def function(country = \"Bangladesh\"):\n",
    "    print(f\"I'm from {country}\")\n",
    "    \n",
    "    \n",
    "function()\n",
    "function(\"The USA\")"
   ]
  },
  {
   "cell_type": "code",
   "execution_count": 26,
   "id": "853fcc93",
   "metadata": {},
   "outputs": [
    {
     "name": "stdout",
     "output_type": "stream",
     "text": [
      "apple\n",
      "banana\n",
      "cherry\n"
     ]
    }
   ],
   "source": [
    "def f(food):\n",
    "    for item in food:\n",
    "        print(item)\n",
    "        \n",
    "        \n",
    "fruits = [\"apple\", \"banana\", \"cherry\"]\n",
    "f(fruits)"
   ]
  },
  {
   "cell_type": "code",
   "execution_count": 27,
   "id": "412102af",
   "metadata": {},
   "outputs": [
    {
     "data": {
      "text/plain": [
       "25"
      ]
     },
     "execution_count": 27,
     "metadata": {},
     "output_type": "execute_result"
    }
   ],
   "source": [
    "def f(x):\n",
    "    return 5 * x\n",
    "\n",
    "\n",
    "f(5)"
   ]
  },
  {
   "cell_type": "code",
   "execution_count": 29,
   "id": "270dd098",
   "metadata": {},
   "outputs": [],
   "source": [
    "def f():\n",
    "    pass\n",
    "    "
   ]
  },
  {
   "cell_type": "code",
   "execution_count": null,
   "id": "1d1ec150",
   "metadata": {},
   "outputs": [],
   "source": []
  }
 ],
 "metadata": {
  "kernelspec": {
   "display_name": "Python 3 (ipykernel)",
   "language": "python",
   "name": "python3"
  },
  "language_info": {
   "codemirror_mode": {
    "name": "ipython",
    "version": 3
   },
   "file_extension": ".py",
   "mimetype": "text/x-python",
   "name": "python",
   "nbconvert_exporter": "python",
   "pygments_lexer": "ipython3",
   "version": "3.9.13"
  }
 },
 "nbformat": 4,
 "nbformat_minor": 5
}
