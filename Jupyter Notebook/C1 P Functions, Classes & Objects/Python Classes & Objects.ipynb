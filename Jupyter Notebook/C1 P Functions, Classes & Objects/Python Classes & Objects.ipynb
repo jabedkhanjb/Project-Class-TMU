{
 "cells": [
  {
   "cell_type": "markdown",
   "id": "186fe220",
   "metadata": {},
   "source": [
    "# Assignment 1 Python Functions, Classes/Objects\n"
   ]
  },
  {
   "cell_type": "markdown",
   "id": "5e923b47",
   "metadata": {},
   "source": [
    "### Mahfuz Islam Khan Jabed\n",
    "#### B.Sc in CSE\n",
    "#### The Millennium University\n",
    "##### Github.com/jabedkhanjb"
   ]
  },
  {
   "cell_type": "markdown",
   "id": "f91ee7d6",
   "metadata": {},
   "source": [
    "# Python Classes/Objects"
   ]
  },
  {
   "cell_type": "markdown",
   "id": "0e5cbefe",
   "metadata": {},
   "source": [
    "A Class is like an object constructor, or a \"blueprint\" for creating objects."
   ]
  },
  {
   "cell_type": "markdown",
   "id": "b8ff79d0",
   "metadata": {},
   "source": [
    "# Create a Class\n",
    "\n",
    "To create a class, use the keyword <b>class</b>:"
   ]
  },
  {
   "cell_type": "markdown",
   "id": "3c6faa93",
   "metadata": {},
   "source": [
    "to create the class name, we should use pascal case for instance,\n",
    "\n",
    "class MyClass:"
   ]
  },
  {
   "cell_type": "code",
   "execution_count": 1,
   "id": "18657e1f",
   "metadata": {},
   "outputs": [],
   "source": [
    "class Newclass:\n",
    "    x = 5 # property"
   ]
  },
  {
   "cell_type": "markdown",
   "id": "35a0b060",
   "metadata": {},
   "source": [
    "# Create Object\n",
    "\n",
    "Now we can use the class named MyClass to create objects:"
   ]
  },
  {
   "cell_type": "markdown",
   "id": "d8cd1b05",
   "metadata": {},
   "source": [
    "<i><b>Create an object named obj1, and print the value of x:</b></i>"
   ]
  },
  {
   "cell_type": "code",
   "execution_count": 2,
   "id": "d6e005db",
   "metadata": {},
   "outputs": [
    {
     "name": "stdout",
     "output_type": "stream",
     "text": [
      "10\n"
     ]
    }
   ],
   "source": [
    "class NewClass:\n",
    "    x = 10\n",
    "    \n",
    "    \n",
    "obj1 = NewClass()\n",
    "print(obj1.x)"
   ]
  },
  {
   "cell_type": "markdown",
   "id": "226f4aaf",
   "metadata": {},
   "source": [
    "# The __init__() Function"
   ]
  },
  {
   "cell_type": "markdown",
   "id": "f864ac9c",
   "metadata": {},
   "source": [
    "Create a class named, use the __init__() function to assign values for name and age:"
   ]
  },
  {
   "cell_type": "code",
   "execution_count": 3,
   "id": "855a02aa",
   "metadata": {},
   "outputs": [
    {
     "name": "stdout",
     "output_type": "stream",
     "text": [
      "Mahfuz Islam Khan Jabed\n",
      "20\n"
     ]
    }
   ],
   "source": [
    "class UserInfo:\n",
    "    def __init__(self, name, age):\n",
    "        self.pname = name\n",
    "        self.page = age\n",
    "        \n",
    "        \n",
    "p1 = UserInfo(\"Mahfuz Islam Khan Jabed\", 20)\n",
    "print(p1.pname)\n",
    "print(p1.page)"
   ]
  },
  {
   "cell_type": "markdown",
   "id": "55ab8142",
   "metadata": {},
   "source": [
    "<b>Note:</b> The __init__() function is called automatically every time the class is being used to create a new object."
   ]
  },
  {
   "cell_type": "markdown",
   "id": "a97bd3bf",
   "metadata": {},
   "source": [
    "# The __str__() Function\n",
    "\n",
    "The __str__() function controls what should be returned when the class object is represented as a string.\n",
    "\n",
    "If the __str__() function is not set, the string representation of the object is returned:"
   ]
  },
  {
   "cell_type": "markdown",
   "id": "b750d2fe",
   "metadata": {},
   "source": [
    "<i><b>The string representation of an object WITHOUT the __str__() function:</b></i>"
   ]
  },
  {
   "cell_type": "code",
   "execution_count": 4,
   "id": "29381317",
   "metadata": {},
   "outputs": [
    {
     "name": "stdout",
     "output_type": "stream",
     "text": [
      "<__main__.Person object at 0x00000195C183C040>\n"
     ]
    }
   ],
   "source": [
    "class Person:\n",
    "    def __init__(self, name, age):\n",
    "        self.name = name\n",
    "        self.age = age\n",
    "\n",
    "p1 = Person(\"Jabed\", 20)\n",
    "\n",
    "print(p1) "
   ]
  },
  {
   "cell_type": "markdown",
   "id": "59a0649c",
   "metadata": {},
   "source": [
    "<i><b>The string representation of an object WITH the __str__() function:</b></i>"
   ]
  },
  {
   "cell_type": "code",
   "execution_count": 5,
   "id": "b6cc803d",
   "metadata": {},
   "outputs": [
    {
     "name": "stdout",
     "output_type": "stream",
     "text": [
      "Name: Jabed\n",
      "Age: 20\n"
     ]
    }
   ],
   "source": [
    "class Person:\n",
    "    def __init__(self, name, age):\n",
    "        self.name = name\n",
    "        self.age = age\n",
    "        \n",
    "    def __str__(self):\n",
    "        return f\"Name: {self.name}\\nAge: {self.age}\"\n",
    "\n",
    "p1 = Person(\"Jabed\", 20)\n",
    "\n",
    "print(p1) "
   ]
  },
  {
   "cell_type": "markdown",
   "id": "93b691a4",
   "metadata": {},
   "source": [
    "# Object Methods\n",
    "\n",
    "Objects can also contain methods. Methods in objects are functions that belong to the object."
   ]
  },
  {
   "cell_type": "markdown",
   "id": "d426f835",
   "metadata": {},
   "source": [
    "Let us create a method in a class:"
   ]
  },
  {
   "cell_type": "code",
   "execution_count": 6,
   "id": "65132538",
   "metadata": {},
   "outputs": [
    {
     "name": "stdout",
     "output_type": "stream",
     "text": [
      "Hello Jabed, How are you doing?\n"
     ]
    }
   ],
   "source": [
    "class Person:\n",
    "    def __init__(self, name, age):\n",
    "        self.pname = name\n",
    "        self.page = age\n",
    "        \n",
    "    def callfunction(self):\n",
    "        print(f\"Hello {self.pname}, How are you doing?\")\n",
    "        \n",
    "        \n",
    "p1 = Person(\"Jabed\", 20)\n",
    "p1.callfunction()\n",
    "\n"
   ]
  },
  {
   "cell_type": "markdown",
   "id": "e6e18584",
   "metadata": {},
   "source": [
    "What if we want to input person's data like name and age on this code and greet them in the print prompt."
   ]
  },
  {
   "cell_type": "code",
   "execution_count": 7,
   "id": "d79985bd",
   "metadata": {},
   "outputs": [
    {
     "name": "stdout",
     "output_type": "stream",
     "text": [
      "Student Name: mahfuz islam khan jabed\n",
      "Degree: bSc in computer science and engineering\n",
      "Campus: the millennium university\n",
      "\n",
      "\n",
      "\n",
      "Mahfuz Islam Khan Jabed\n",
      "Bsc In Computer Science And Engineering\n",
      "The Millennium University\n"
     ]
    }
   ],
   "source": [
    "class Person:\n",
    "    def __init__(self, name, education, university):\n",
    "        self.pname = name\n",
    "        self.peducatiom = education\n",
    "        self.puniversity = university\n",
    "        \n",
    "        \n",
    "    def studentinfo(self):\n",
    "        print(\"\\n\\n\")\n",
    "        print(self.pname)\n",
    "        print(self.peducatiom)\n",
    "        print(self.puniversity)\n",
    "        \n",
    "# create an object of Class\n",
    "s1 = Person(name = input(\"Student Name: \").strip().title(),\n",
    "            education = input(\"Degree: \").strip().title(),\n",
    "            university = input(\"Campus: \").strip().title()\n",
    "           )\n",
    "s1.studentinfo()"
   ]
  },
  {
   "cell_type": "markdown",
   "id": "bffaecb8",
   "metadata": {},
   "source": [
    "<b>Note:</b> The <b>self</b> parameter is a reference to the current instance of the class, and is used to access variables that belong to the class."
   ]
  },
  {
   "cell_type": "markdown",
   "id": "88bd42cc",
   "metadata": {},
   "source": [
    "# The self Parameter\n",
    "\n",
    "The <b>self</b> parameter is a reference to the current instance of the class, and is used to access variables that belongs to the class.\n",
    "\n",
    "It does not have to be named <b>self</b> , you can call it whatever you like, but it has to be the first parameter of any function in the class:"
   ]
  },
  {
   "cell_type": "markdown",
   "id": "0a96b229",
   "metadata": {},
   "source": [
    "WE CAN USE ANY WORD INSTEAD OF self."
   ]
  },
  {
   "cell_type": "code",
   "execution_count": 9,
   "id": "43cdc07d",
   "metadata": {},
   "outputs": [
    {
     "name": "stdout",
     "output_type": "stream",
     "text": [
      "Insert a name: jabed\n",
      "Age: 20\n",
      "\n",
      "Hello Jabed, How are you doing?\n"
     ]
    }
   ],
   "source": [
    "class Person:\n",
    "    def __init__(studentinfo, name, age): # studentinfo instead of self\n",
    "        studentinfo.pname = name\n",
    "        studentinfo.page = age\n",
    "        \n",
    "    def callfunction(greet): # greet instead of self\n",
    "        print(f\"\\nHello {greet.pname}, How are you doing?\")\n",
    "        \n",
    "        \n",
    "p1 = Person(name = input(\"Insert a name: \").strip().title(), age = input(\"Age: \"))\n",
    "p1.callfunction()\n"
   ]
  },
  {
   "cell_type": "markdown",
   "id": "ff1e032a",
   "metadata": {},
   "source": [
    "# Modify Object Properties\n",
    "\n",
    "You can modify properties on objects like this:"
   ]
  },
  {
   "cell_type": "code",
   "execution_count": 25,
   "id": "f26ea039",
   "metadata": {},
   "outputs": [
    {
     "name": "stdout",
     "output_type": "stream",
     "text": [
      "Insert a name: jabed\n",
      "Age: 22\n",
      "Age as per Passport: 20\n",
      "New Name: mahfuz\n",
      "\n",
      "\n",
      "\n",
      "Name: Mahfuz\n",
      "Age: 20\n"
     ]
    }
   ],
   "source": [
    "class Person:\n",
    "    def __init__(studentinfo, name, age): # studentinfo instead of self\n",
    "        studentinfo.pname = name\n",
    "        studentinfo.page = age\n",
    "        \n",
    "    def callfunction(greet): # greet instead of self\n",
    "        print(f\"\\nHello {greet.pname}, How are you doing?\")\n",
    "        \n",
    "        \n",
    "p1 = Person(name = input(\"Insert a name: \").strip().title(), age = input(\"Age: \"))\n",
    "\n",
    "# Modification of objects\n",
    "p1.age = int(input(\"Age as per Passport: \"))\n",
    "p1.name = input(\"New Name: \").title().strip()\n",
    "\n",
    "print(\"\\n\\n\")\n",
    "print(\"Name:\", p1.name)\n",
    "print(\"Age:\",p1.age)\n"
   ]
  },
  {
   "cell_type": "markdown",
   "id": "1b996363",
   "metadata": {},
   "source": [
    "# Delete Object Properties\n",
    "\n",
    "You can delete properties on objects by using the <b>del</b> keyword:"
   ]
  },
  {
   "cell_type": "code",
   "execution_count": 27,
   "id": "8b320a35",
   "metadata": {},
   "outputs": [
    {
     "name": "stdout",
     "output_type": "stream",
     "text": [
      "Mahfuz\n"
     ]
    },
    {
     "ename": "AttributeError",
     "evalue": "'Person' object has no attribute 'age'",
     "output_type": "error",
     "traceback": [
      "\u001b[1;31m---------------------------------------------------------------------------\u001b[0m",
      "\u001b[1;31mAttributeError\u001b[0m                            Traceback (most recent call last)",
      "\u001b[1;32m~\\AppData\\Local\\Temp\\ipykernel_6708\\352827186.py\u001b[0m in \u001b[0;36m<module>\u001b[1;34m\u001b[0m\n\u001b[0;32m      1\u001b[0m \u001b[1;32mdel\u001b[0m \u001b[0mp1\u001b[0m\u001b[1;33m.\u001b[0m\u001b[0mage\u001b[0m\u001b[1;33m\u001b[0m\u001b[1;33m\u001b[0m\u001b[0m\n\u001b[0;32m      2\u001b[0m \u001b[0mprint\u001b[0m\u001b[1;33m(\u001b[0m\u001b[0mp1\u001b[0m\u001b[1;33m.\u001b[0m\u001b[0mname\u001b[0m\u001b[1;33m)\u001b[0m\u001b[1;33m\u001b[0m\u001b[1;33m\u001b[0m\u001b[0m\n\u001b[1;32m----> 3\u001b[1;33m \u001b[0mprint\u001b[0m\u001b[1;33m(\u001b[0m\u001b[0mp1\u001b[0m\u001b[1;33m.\u001b[0m\u001b[0mage\u001b[0m\u001b[1;33m)\u001b[0m\u001b[1;33m\u001b[0m\u001b[1;33m\u001b[0m\u001b[0m\n\u001b[0m",
      "\u001b[1;31mAttributeError\u001b[0m: 'Person' object has no attribute 'age'"
     ]
    }
   ],
   "source": [
    "del p1.age\n",
    "print(p1.name)\n",
    "print(p1.age)"
   ]
  },
  {
   "cell_type": "markdown",
   "id": "58cb5c74",
   "metadata": {},
   "source": [
    "This <b>AttributeError</b> is the cause of <b>del</b> keyword"
   ]
  },
  {
   "cell_type": "markdown",
   "id": "2c97e478",
   "metadata": {},
   "source": [
    "# Delete Objects\n",
    "\n",
    "You can delete objects by using the <b>del</b> keyword:"
   ]
  },
  {
   "cell_type": "code",
   "execution_count": 30,
   "id": "73a0ac36",
   "metadata": {},
   "outputs": [
    {
     "name": "stdout",
     "output_type": "stream",
     "text": [
      "Hello Jabed, How are you doing?\n"
     ]
    }
   ],
   "source": [
    "class Person:\n",
    "    def __init__(self, name, age):\n",
    "        self.pname = name\n",
    "        self.page = age\n",
    "        \n",
    "    def callfunction(self):\n",
    "        print(f\"Hello {self.pname}, How are you doing?\")\n",
    "        \n",
    "        \n",
    "p1 = Person(\"Jabed\", 20)\n",
    "p1.callfunction()"
   ]
  },
  {
   "cell_type": "code",
   "execution_count": 31,
   "id": "f749917a",
   "metadata": {},
   "outputs": [
    {
     "ename": "NameError",
     "evalue": "name 'p1' is not defined",
     "output_type": "error",
     "traceback": [
      "\u001b[1;31m---------------------------------------------------------------------------\u001b[0m",
      "\u001b[1;31mNameError\u001b[0m                                 Traceback (most recent call last)",
      "\u001b[1;32m~\\AppData\\Local\\Temp\\ipykernel_6708\\1749422869.py\u001b[0m in \u001b[0;36m<module>\u001b[1;34m\u001b[0m\n\u001b[0;32m      2\u001b[0m \u001b[1;31m# object name\u001b[0m\u001b[1;33m\u001b[0m\u001b[1;33m\u001b[0m\u001b[0m\n\u001b[0;32m      3\u001b[0m \u001b[1;33m\u001b[0m\u001b[0m\n\u001b[1;32m----> 4\u001b[1;33m \u001b[0mp1\u001b[0m\u001b[1;33m.\u001b[0m\u001b[0mcallfunction\u001b[0m\u001b[1;33m(\u001b[0m\u001b[1;33m)\u001b[0m\u001b[1;33m\u001b[0m\u001b[1;33m\u001b[0m\u001b[0m\n\u001b[0m",
      "\u001b[1;31mNameError\u001b[0m: name 'p1' is not defined"
     ]
    }
   ],
   "source": [
    "del p1 \n",
    "# object name\n",
    "\n",
    "p1.callfunction()"
   ]
  },
  {
   "cell_type": "markdown",
   "id": "1fd23fc2",
   "metadata": {},
   "source": [
    "# The pass Statement\n",
    "\n",
    "<b>class</b> definitions cannot be empty, but if you for some reason have a <b>class</b> definition with no content, put in the <b>pass</b> statement to avoid getting an error."
   ]
  },
  {
   "cell_type": "code",
   "execution_count": 32,
   "id": "1a22c307",
   "metadata": {},
   "outputs": [],
   "source": [
    "class Person:\n",
    "    pass"
   ]
  },
  {
   "cell_type": "code",
   "execution_count": 36,
   "id": "36277d5b",
   "metadata": {},
   "outputs": [
    {
     "name": "stdout",
     "output_type": "stream",
     "text": [
      "Hello Jabed, How are you doing?\n"
     ]
    }
   ],
   "source": [
    "class Person:\n",
    "    def __init__(self, name, age):\n",
    "        self.pname = name\n",
    "        self.page = age\n",
    "        \n",
    "    def callfunction(self):\n",
    "        print(f\"Hello {self.pname}, How are you doing?\")\n",
    "        \n",
    "        \n",
    "class NewPerson:\n",
    "    pass\n",
    "\n",
    "# by using pass key in this empty class,  no possible errors will occur\n",
    "        \n",
    "p1 = Person(\"Jabed\", 20)\n",
    "p1.callfunction()"
   ]
  },
  {
   "cell_type": "markdown",
   "id": "3d413873",
   "metadata": {},
   "source": [
    "# Python Classes & Objects End"
   ]
  },
  {
   "cell_type": "markdown",
   "id": "331b1787",
   "metadata": {},
   "source": [
    "##### www.allmylinks.com/jabedkhanjb"
   ]
  },
  {
   "cell_type": "code",
   "execution_count": null,
   "id": "fe639eb1",
   "metadata": {},
   "outputs": [],
   "source": []
  }
 ],
 "metadata": {
  "kernelspec": {
   "display_name": "Python 3 (ipykernel)",
   "language": "python",
   "name": "python3"
  },
  "language_info": {
   "codemirror_mode": {
    "name": "ipython",
    "version": 3
   },
   "file_extension": ".py",
   "mimetype": "text/x-python",
   "name": "python",
   "nbconvert_exporter": "python",
   "pygments_lexer": "ipython3",
   "version": "3.9.13"
  },
  "vscode": {
   "interpreter": {
    "hash": "d1f08592043555f5f6b5a69ae21320c6096ca2470dcf4c033163e9b1094dbffd"
   }
  }
 },
 "nbformat": 4,
 "nbformat_minor": 5
}
