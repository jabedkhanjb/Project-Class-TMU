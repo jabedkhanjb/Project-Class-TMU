{
 "cells": [
  {
   "cell_type": "markdown",
   "id": "0eb93203",
   "metadata": {},
   "source": [
    "# Assignment 1 Python Functions, Classes/Objects\n"
   ]
  },
  {
   "cell_type": "markdown",
   "id": "26c5eda1",
   "metadata": {},
   "source": [
    "### Mahfuz Islam Khan Jabed\n",
    "#### B.Sc in CSE\n",
    "#### The Millennium University\n",
    "##### Github.com/jabedkhanjb"
   ]
  },
  {
   "cell_type": "markdown",
   "id": "30ad19b2",
   "metadata": {},
   "source": [
    "# Python Classes/Objects"
   ]
  },
  {
   "cell_type": "markdown",
   "id": "7b7028cc",
   "metadata": {},
   "source": [
    "A Class is like an object constructor, or a \"blueprint\" for creating objects."
   ]
  },
  {
   "cell_type": "markdown",
   "id": "9a7eefe3",
   "metadata": {},
   "source": [
    "# Create a Class\n",
    "\n",
    "To create a class, use the keyword <b>class</b>:"
   ]
  },
  {
   "cell_type": "markdown",
   "id": "a66176b3",
   "metadata": {},
   "source": [
    "to create the class name, we should use pascal case for instance : class My"
   ]
  },
  {
   "cell_type": "code",
   "execution_count": null,
   "id": "3df74a1f",
   "metadata": {},
   "outputs": [],
   "source": [
    "class Newclass:"
   ]
  }
 ],
 "metadata": {
  "kernelspec": {
   "display_name": "Python 3 (ipykernel)",
   "language": "python",
   "name": "python3"
  },
  "language_info": {
   "codemirror_mode": {
    "name": "ipython",
    "version": 3
   },
   "file_extension": ".py",
   "mimetype": "text/x-python",
   "name": "python",
   "nbconvert_exporter": "python",
   "pygments_lexer": "ipython3",
   "version": "3.9.13"
  }
 },
 "nbformat": 4,
 "nbformat_minor": 5
}
